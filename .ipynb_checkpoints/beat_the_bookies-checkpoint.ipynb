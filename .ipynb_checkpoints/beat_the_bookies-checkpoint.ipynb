{
 "cells": [
  {
   "cell_type": "markdown",
   "metadata": {
    "id": "MRxeI7EOx9k_"
   },
   "source": [
    "# Beat The Bookies: Predicting EPL Matches\n",
    "_Team C_\n",
    "\n",
    "__Mohammad Ali Syed, Abdul Al-Fahim, Dylan Hoi, Henry Chen, Chris Wong & Yolanne Lee__"
   ]
  },
  {
   "cell_type": "markdown",
   "metadata": {
    "id": "MOcQFZzsgHWK"
   },
   "source": [
    "**Contents:**\n",
    "\n",
    "[Section 1](#section1): Introduction\n",
    "\n",
    "[Section 2](#section2): Data Import\n",
    "\n",
    "[Section 3](#section3): Data Transformation & Exploration\n",
    "\n",
    "[Section 4](#section4): Methodology Overview\n",
    "\n",
    "[Section 5](#section5): Model Training & Validation\n",
    "\n",
    "[Section 6](#section6): Results\n",
    "\n",
    "[Section 7](#section7): Final Predictions on Test Set"
   ]
  },
  {
   "cell_type": "markdown",
   "metadata": {
    "id": "v-EqnUuI8gWm"
   },
   "source": [
    "## Introduction\n",
    "<a name='section1'></a>"
   ]
  },
  {
   "cell_type": "markdown",
   "metadata": {
    "id": "v-EqnUuI8gWm"
   },
   "source": [
    "## Data Import\n",
    "<a name='section2'></a>"
   ]
  },
  {
   "cell_type": "code",
   "execution_count": 1,
   "metadata": {},
   "outputs": [],
   "source": [
    "#Import packages\n",
    "import numpy as np\n",
    "import pandas as pd\n",
    "import datetime as datetime\n",
    "\n",
    "from sklearn.preprocessing import StandardScaler, OneHotEncoder, LabelEncoder\n",
    "from sklearn.impute import SimpleImputer\n",
    "from sklearn.model_selection import train_test_split\n",
    "from sklearn.metrics import mean_absolute_error, mean_squared_error, classification_report,confusion_matrix\n",
    "from sklearn.ensemble import RandomForestClassifier\n",
    "from sklearn.feature_selection import SelectFromModel\n",
    "\n",
    "import matplotlib.pyplot as plt"
   ]
  },
  {
   "cell_type": "code",
   "execution_count": 41,
   "metadata": {},
   "outputs": [
    {
     "data": {
      "text/html": [
       "<div>\n",
       "<style scoped>\n",
       "    .dataframe tbody tr th:only-of-type {\n",
       "        vertical-align: middle;\n",
       "    }\n",
       "\n",
       "    .dataframe tbody tr th {\n",
       "        vertical-align: top;\n",
       "    }\n",
       "\n",
       "    .dataframe thead th {\n",
       "        text-align: right;\n",
       "    }\n",
       "</style>\n",
       "<table border=\"1\" class=\"dataframe\">\n",
       "  <thead>\n",
       "    <tr style=\"text-align: right;\">\n",
       "      <th></th>\n",
       "      <th>Date</th>\n",
       "      <th>HomeTeam</th>\n",
       "      <th>AwayTeam</th>\n",
       "      <th>FTHG</th>\n",
       "      <th>FTAG</th>\n",
       "      <th>FTR</th>\n",
       "      <th>HTHG</th>\n",
       "      <th>HTAG</th>\n",
       "      <th>HTR</th>\n",
       "      <th>Referee</th>\n",
       "      <th>HS</th>\n",
       "      <th>AS</th>\n",
       "      <th>HST</th>\n",
       "      <th>AST</th>\n",
       "      <th>HF</th>\n",
       "      <th>AF</th>\n",
       "      <th>HC</th>\n",
       "      <th>AC</th>\n",
       "      <th>HY</th>\n",
       "      <th>AY</th>\n",
       "      <th>HR</th>\n",
       "      <th>AR</th>\n",
       "    </tr>\n",
       "  </thead>\n",
       "  <tbody>\n",
       "    <tr>\n",
       "      <th>0</th>\n",
       "      <td>16/08/08</td>\n",
       "      <td>Arsenal</td>\n",
       "      <td>West Brom</td>\n",
       "      <td>1</td>\n",
       "      <td>0</td>\n",
       "      <td>H</td>\n",
       "      <td>1</td>\n",
       "      <td>0</td>\n",
       "      <td>H</td>\n",
       "      <td>H Webb</td>\n",
       "      <td>24</td>\n",
       "      <td>5</td>\n",
       "      <td>14</td>\n",
       "      <td>4</td>\n",
       "      <td>11</td>\n",
       "      <td>8</td>\n",
       "      <td>7</td>\n",
       "      <td>5</td>\n",
       "      <td>0</td>\n",
       "      <td>0</td>\n",
       "      <td>0</td>\n",
       "      <td>0</td>\n",
       "    </tr>\n",
       "    <tr>\n",
       "      <th>1</th>\n",
       "      <td>16/08/08</td>\n",
       "      <td>Bolton</td>\n",
       "      <td>Stoke</td>\n",
       "      <td>3</td>\n",
       "      <td>1</td>\n",
       "      <td>H</td>\n",
       "      <td>3</td>\n",
       "      <td>0</td>\n",
       "      <td>H</td>\n",
       "      <td>C Foy</td>\n",
       "      <td>14</td>\n",
       "      <td>8</td>\n",
       "      <td>8</td>\n",
       "      <td>2</td>\n",
       "      <td>13</td>\n",
       "      <td>12</td>\n",
       "      <td>4</td>\n",
       "      <td>3</td>\n",
       "      <td>1</td>\n",
       "      <td>2</td>\n",
       "      <td>0</td>\n",
       "      <td>0</td>\n",
       "    </tr>\n",
       "    <tr>\n",
       "      <th>2</th>\n",
       "      <td>16/08/08</td>\n",
       "      <td>Everton</td>\n",
       "      <td>Blackburn</td>\n",
       "      <td>2</td>\n",
       "      <td>3</td>\n",
       "      <td>A</td>\n",
       "      <td>1</td>\n",
       "      <td>1</td>\n",
       "      <td>D</td>\n",
       "      <td>A Marriner</td>\n",
       "      <td>10</td>\n",
       "      <td>15</td>\n",
       "      <td>5</td>\n",
       "      <td>11</td>\n",
       "      <td>11</td>\n",
       "      <td>9</td>\n",
       "      <td>3</td>\n",
       "      <td>5</td>\n",
       "      <td>2</td>\n",
       "      <td>2</td>\n",
       "      <td>0</td>\n",
       "      <td>0</td>\n",
       "    </tr>\n",
       "    <tr>\n",
       "      <th>3</th>\n",
       "      <td>16/08/08</td>\n",
       "      <td>Hull</td>\n",
       "      <td>Fulham</td>\n",
       "      <td>2</td>\n",
       "      <td>1</td>\n",
       "      <td>H</td>\n",
       "      <td>1</td>\n",
       "      <td>1</td>\n",
       "      <td>D</td>\n",
       "      <td>P Walton</td>\n",
       "      <td>11</td>\n",
       "      <td>12</td>\n",
       "      <td>6</td>\n",
       "      <td>6</td>\n",
       "      <td>10</td>\n",
       "      <td>9</td>\n",
       "      <td>5</td>\n",
       "      <td>6</td>\n",
       "      <td>3</td>\n",
       "      <td>0</td>\n",
       "      <td>0</td>\n",
       "      <td>0</td>\n",
       "    </tr>\n",
       "    <tr>\n",
       "      <th>4</th>\n",
       "      <td>16/08/08</td>\n",
       "      <td>Middlesbrough</td>\n",
       "      <td>Tottenham</td>\n",
       "      <td>2</td>\n",
       "      <td>1</td>\n",
       "      <td>H</td>\n",
       "      <td>0</td>\n",
       "      <td>0</td>\n",
       "      <td>D</td>\n",
       "      <td>M Atkinson</td>\n",
       "      <td>14</td>\n",
       "      <td>8</td>\n",
       "      <td>10</td>\n",
       "      <td>5</td>\n",
       "      <td>11</td>\n",
       "      <td>12</td>\n",
       "      <td>7</td>\n",
       "      <td>9</td>\n",
       "      <td>1</td>\n",
       "      <td>2</td>\n",
       "      <td>0</td>\n",
       "      <td>0</td>\n",
       "    </tr>\n",
       "  </tbody>\n",
       "</table>\n",
       "</div>"
      ],
      "text/plain": [
       "       Date       HomeTeam   AwayTeam  FTHG  FTAG FTR  HTHG  HTAG HTR  \\\n",
       "0  16/08/08        Arsenal  West Brom     1     0   H     1     0   H   \n",
       "1  16/08/08         Bolton      Stoke     3     1   H     3     0   H   \n",
       "2  16/08/08        Everton  Blackburn     2     3   A     1     1   D   \n",
       "3  16/08/08           Hull     Fulham     2     1   H     1     1   D   \n",
       "4  16/08/08  Middlesbrough  Tottenham     2     1   H     0     0   D   \n",
       "\n",
       "      Referee  HS  AS  HST  AST  HF  AF  HC  AC  HY  AY  HR  AR  \n",
       "0      H Webb  24   5   14    4  11   8   7   5   0   0   0   0  \n",
       "1       C Foy  14   8    8    2  13  12   4   3   1   2   0   0  \n",
       "2  A Marriner  10  15    5   11  11   9   3   5   2   2   0   0  \n",
       "3    P Walton  11  12    6    6  10   9   5   6   3   0   0   0  \n",
       "4  M Atkinson  14   8   10    5  11  12   7   9   1   2   0   0  "
      ]
     },
     "execution_count": 41,
     "metadata": {},
     "output_type": "execute_result"
    }
   ],
   "source": [
    "#Load data\n",
    "\n",
    "#Change this to your directory\n",
    "dirName = 'Data_Files/'\n",
    "filePath = dirName + 'epl-training.csv'\n",
    "\n",
    "data = pd.read_csv(filePath)\n",
    "#Remove empty nan columns at the end\n",
    "data = data.iloc[:, 0:22]\n",
    "pd.set_option('display.max_columns', None)\n",
    "data.head()"
   ]
  },
  {
   "cell_type": "markdown",
   "metadata": {
    "id": "_b63a_ejYMVK"
   },
   "source": [
    "## Data Transformation & Exploration\n",
    "<a name='section3'></a>"
   ]
  },
  {
   "cell_type": "code",
   "execution_count": 3,
   "metadata": {},
   "outputs": [
    {
     "data": {
      "text/plain": [
       "0.6396761133603239"
      ]
     },
     "execution_count": 3,
     "metadata": {},
     "output_type": "execute_result"
    }
   ],
   "source": [
    "############################################# Feature Visualisation\n",
    "#Visualise correlations between different statistics\n",
    "from pandas.plotting import scatter_matrix\n",
    "\n",
    "#Sort data by teams\n",
    "teams = {}\n",
    "referees = {}\n",
    "for i in data.groupby('HomeTeam').mean().T.columns:\n",
    "    teams[i] = []\n",
    "for i in data.groupby('Referee').mean().T.columns:\n",
    "    referees[i] = []\n",
    "\n",
    "#Compute summary stats per team\n",
    "temp = data[(data[\"HomeTeam\"] == \"Arsenal\")]\n",
    "temp_ = temp.iloc[:, [3,6,10,12,14,16,18,20]]\n",
    "temp_.sum()\n",
    "\n",
    "#make data frame for both away teams and home teams for summary stats\n",
    "\n",
    "test = temp.iloc[:, 5]\n",
    "test.value_counts()[0]/len(test) #note the 0 index is H so may need to be changed for away \n",
    "# temp2 = data[(data[\"AwayTeam\"] == \"Arsenal\")]\n",
    "# temp2.head()"
   ]
  },
  {
   "cell_type": "code",
   "execution_count": 53,
   "metadata": {},
   "outputs": [
    {
     "name": "stdout",
     "output_type": "stream",
     "text": [
      "FTHG: \n",
      "FTHG    1.000000\n",
      "HTHG    0.686279\n",
      "HST     0.447116\n",
      "Name: FTHG, dtype: float64\n"
     ]
    },
    {
     "ename": "UFuncTypeError",
     "evalue": "ufunc 'add' did not contain a loop with signature matching types (dtype('<U6'), dtype('float64')) -> None",
     "output_type": "error",
     "traceback": [
      "\u001b[1;31m---------------------------------------------------------------------------\u001b[0m",
      "\u001b[1;31mUFuncTypeError\u001b[0m                            Traceback (most recent call last)",
      "\u001b[1;32m~\\AppData\\Local\\Temp/ipykernel_22892/4081688677.py\u001b[0m in \u001b[0;36m<module>\u001b[1;34m\u001b[0m\n\u001b[0;32m     10\u001b[0m \u001b[0mhighest_corr\u001b[0m \u001b[1;33m=\u001b[0m \u001b[0mcorr_y\u001b[0m\u001b[1;33m[\u001b[0m\u001b[0mcorr_y\u001b[0m \u001b[1;33m>\u001b[0m\u001b[1;36m0.4\u001b[0m\u001b[1;33m]\u001b[0m\u001b[1;33m\u001b[0m\u001b[1;33m\u001b[0m\u001b[0m\n\u001b[0;32m     11\u001b[0m \u001b[0mhighest_corr\u001b[0m\u001b[1;33m.\u001b[0m\u001b[0msort_values\u001b[0m\u001b[1;33m(\u001b[0m\u001b[0mascending\u001b[0m\u001b[1;33m=\u001b[0m\u001b[1;32mTrue\u001b[0m\u001b[1;33m)\u001b[0m\u001b[1;33m\u001b[0m\u001b[1;33m\u001b[0m\u001b[0m\n\u001b[1;32m---> 12\u001b[1;33m \u001b[0mprint\u001b[0m\u001b[1;33m(\u001b[0m\u001b[1;34m\"FTAG: \"\u001b[0m \u001b[1;33m+\u001b[0m \u001b[0mhighest_corr\u001b[0m\u001b[1;33m)\u001b[0m\u001b[1;33m\u001b[0m\u001b[1;33m\u001b[0m\u001b[0m\n\u001b[0m",
      "\u001b[1;32mc:\\users\\alisy\\appdata\\local\\programs\\python\\python39\\lib\\site-packages\\pandas\\core\\ops\\common.py\u001b[0m in \u001b[0;36mnew_method\u001b[1;34m(self, other)\u001b[0m\n\u001b[0;32m     67\u001b[0m         \u001b[0mother\u001b[0m \u001b[1;33m=\u001b[0m \u001b[0mitem_from_zerodim\u001b[0m\u001b[1;33m(\u001b[0m\u001b[0mother\u001b[0m\u001b[1;33m)\u001b[0m\u001b[1;33m\u001b[0m\u001b[1;33m\u001b[0m\u001b[0m\n\u001b[0;32m     68\u001b[0m \u001b[1;33m\u001b[0m\u001b[0m\n\u001b[1;32m---> 69\u001b[1;33m         \u001b[1;32mreturn\u001b[0m \u001b[0mmethod\u001b[0m\u001b[1;33m(\u001b[0m\u001b[0mself\u001b[0m\u001b[1;33m,\u001b[0m \u001b[0mother\u001b[0m\u001b[1;33m)\u001b[0m\u001b[1;33m\u001b[0m\u001b[1;33m\u001b[0m\u001b[0m\n\u001b[0m\u001b[0;32m     70\u001b[0m \u001b[1;33m\u001b[0m\u001b[0m\n\u001b[0;32m     71\u001b[0m     \u001b[1;32mreturn\u001b[0m \u001b[0mnew_method\u001b[0m\u001b[1;33m\u001b[0m\u001b[1;33m\u001b[0m\u001b[0m\n",
      "\u001b[1;32mc:\\users\\alisy\\appdata\\local\\programs\\python\\python39\\lib\\site-packages\\pandas\\core\\arraylike.py\u001b[0m in \u001b[0;36m__radd__\u001b[1;34m(self, other)\u001b[0m\n\u001b[0;32m     94\u001b[0m     \u001b[1;33m@\u001b[0m\u001b[0munpack_zerodim_and_defer\u001b[0m\u001b[1;33m(\u001b[0m\u001b[1;34m\"__radd__\"\u001b[0m\u001b[1;33m)\u001b[0m\u001b[1;33m\u001b[0m\u001b[1;33m\u001b[0m\u001b[0m\n\u001b[0;32m     95\u001b[0m     \u001b[1;32mdef\u001b[0m \u001b[0m__radd__\u001b[0m\u001b[1;33m(\u001b[0m\u001b[0mself\u001b[0m\u001b[1;33m,\u001b[0m \u001b[0mother\u001b[0m\u001b[1;33m)\u001b[0m\u001b[1;33m:\u001b[0m\u001b[1;33m\u001b[0m\u001b[1;33m\u001b[0m\u001b[0m\n\u001b[1;32m---> 96\u001b[1;33m         \u001b[1;32mreturn\u001b[0m \u001b[0mself\u001b[0m\u001b[1;33m.\u001b[0m\u001b[0m_arith_method\u001b[0m\u001b[1;33m(\u001b[0m\u001b[0mother\u001b[0m\u001b[1;33m,\u001b[0m \u001b[0mroperator\u001b[0m\u001b[1;33m.\u001b[0m\u001b[0mradd\u001b[0m\u001b[1;33m)\u001b[0m\u001b[1;33m\u001b[0m\u001b[1;33m\u001b[0m\u001b[0m\n\u001b[0m\u001b[0;32m     97\u001b[0m \u001b[1;33m\u001b[0m\u001b[0m\n\u001b[0;32m     98\u001b[0m     \u001b[1;33m@\u001b[0m\u001b[0munpack_zerodim_and_defer\u001b[0m\u001b[1;33m(\u001b[0m\u001b[1;34m\"__sub__\"\u001b[0m\u001b[1;33m)\u001b[0m\u001b[1;33m\u001b[0m\u001b[1;33m\u001b[0m\u001b[0m\n",
      "\u001b[1;32mc:\\users\\alisy\\appdata\\local\\programs\\python\\python39\\lib\\site-packages\\pandas\\core\\series.py\u001b[0m in \u001b[0;36m_arith_method\u001b[1;34m(self, other, op)\u001b[0m\n\u001b[0;32m   5524\u001b[0m \u001b[1;33m\u001b[0m\u001b[0m\n\u001b[0;32m   5525\u001b[0m         \u001b[1;32mwith\u001b[0m \u001b[0mnp\u001b[0m\u001b[1;33m.\u001b[0m\u001b[0merrstate\u001b[0m\u001b[1;33m(\u001b[0m\u001b[0mall\u001b[0m\u001b[1;33m=\u001b[0m\u001b[1;34m\"ignore\"\u001b[0m\u001b[1;33m)\u001b[0m\u001b[1;33m:\u001b[0m\u001b[1;33m\u001b[0m\u001b[1;33m\u001b[0m\u001b[0m\n\u001b[1;32m-> 5526\u001b[1;33m             \u001b[0mresult\u001b[0m \u001b[1;33m=\u001b[0m \u001b[0mops\u001b[0m\u001b[1;33m.\u001b[0m\u001b[0marithmetic_op\u001b[0m\u001b[1;33m(\u001b[0m\u001b[0mlvalues\u001b[0m\u001b[1;33m,\u001b[0m \u001b[0mrvalues\u001b[0m\u001b[1;33m,\u001b[0m \u001b[0mop\u001b[0m\u001b[1;33m)\u001b[0m\u001b[1;33m\u001b[0m\u001b[1;33m\u001b[0m\u001b[0m\n\u001b[0m\u001b[0;32m   5527\u001b[0m \u001b[1;33m\u001b[0m\u001b[0m\n\u001b[0;32m   5528\u001b[0m         \u001b[1;32mreturn\u001b[0m \u001b[0mself\u001b[0m\u001b[1;33m.\u001b[0m\u001b[0m_construct_result\u001b[0m\u001b[1;33m(\u001b[0m\u001b[0mresult\u001b[0m\u001b[1;33m,\u001b[0m \u001b[0mname\u001b[0m\u001b[1;33m=\u001b[0m\u001b[0mres_name\u001b[0m\u001b[1;33m)\u001b[0m\u001b[1;33m\u001b[0m\u001b[1;33m\u001b[0m\u001b[0m\n",
      "\u001b[1;32mc:\\users\\alisy\\appdata\\local\\programs\\python\\python39\\lib\\site-packages\\pandas\\core\\ops\\array_ops.py\u001b[0m in \u001b[0;36marithmetic_op\u001b[1;34m(left, right, op)\u001b[0m\n\u001b[0;32m    222\u001b[0m         \u001b[0m_bool_arith_check\u001b[0m\u001b[1;33m(\u001b[0m\u001b[0mop\u001b[0m\u001b[1;33m,\u001b[0m \u001b[0mleft\u001b[0m\u001b[1;33m,\u001b[0m \u001b[0mright\u001b[0m\u001b[1;33m)\u001b[0m\u001b[1;33m\u001b[0m\u001b[1;33m\u001b[0m\u001b[0m\n\u001b[0;32m    223\u001b[0m \u001b[1;33m\u001b[0m\u001b[0m\n\u001b[1;32m--> 224\u001b[1;33m         \u001b[0mres_values\u001b[0m \u001b[1;33m=\u001b[0m \u001b[0m_na_arithmetic_op\u001b[0m\u001b[1;33m(\u001b[0m\u001b[0mleft\u001b[0m\u001b[1;33m,\u001b[0m \u001b[0mright\u001b[0m\u001b[1;33m,\u001b[0m \u001b[0mop\u001b[0m\u001b[1;33m)\u001b[0m\u001b[1;33m\u001b[0m\u001b[1;33m\u001b[0m\u001b[0m\n\u001b[0m\u001b[0;32m    225\u001b[0m \u001b[1;33m\u001b[0m\u001b[0m\n\u001b[0;32m    226\u001b[0m     \u001b[1;32mreturn\u001b[0m \u001b[0mres_values\u001b[0m\u001b[1;33m\u001b[0m\u001b[1;33m\u001b[0m\u001b[0m\n",
      "\u001b[1;32mc:\\users\\alisy\\appdata\\local\\programs\\python\\python39\\lib\\site-packages\\pandas\\core\\ops\\array_ops.py\u001b[0m in \u001b[0;36m_na_arithmetic_op\u001b[1;34m(left, right, op, is_cmp)\u001b[0m\n\u001b[0;32m    164\u001b[0m \u001b[1;33m\u001b[0m\u001b[0m\n\u001b[0;32m    165\u001b[0m     \u001b[1;32mtry\u001b[0m\u001b[1;33m:\u001b[0m\u001b[1;33m\u001b[0m\u001b[1;33m\u001b[0m\u001b[0m\n\u001b[1;32m--> 166\u001b[1;33m         \u001b[0mresult\u001b[0m \u001b[1;33m=\u001b[0m \u001b[0mfunc\u001b[0m\u001b[1;33m(\u001b[0m\u001b[0mleft\u001b[0m\u001b[1;33m,\u001b[0m \u001b[0mright\u001b[0m\u001b[1;33m)\u001b[0m\u001b[1;33m\u001b[0m\u001b[1;33m\u001b[0m\u001b[0m\n\u001b[0m\u001b[0;32m    167\u001b[0m     \u001b[1;32mexcept\u001b[0m \u001b[0mTypeError\u001b[0m\u001b[1;33m:\u001b[0m\u001b[1;33m\u001b[0m\u001b[1;33m\u001b[0m\u001b[0m\n\u001b[0;32m    168\u001b[0m         \u001b[1;32mif\u001b[0m \u001b[0mis_object_dtype\u001b[0m\u001b[1;33m(\u001b[0m\u001b[0mleft\u001b[0m\u001b[1;33m)\u001b[0m \u001b[1;32mor\u001b[0m \u001b[0mis_object_dtype\u001b[0m\u001b[1;33m(\u001b[0m\u001b[0mright\u001b[0m\u001b[1;33m)\u001b[0m \u001b[1;32mand\u001b[0m \u001b[1;32mnot\u001b[0m \u001b[0mis_cmp\u001b[0m\u001b[1;33m:\u001b[0m\u001b[1;33m\u001b[0m\u001b[1;33m\u001b[0m\u001b[0m\n",
      "\u001b[1;32mc:\\users\\alisy\\appdata\\local\\programs\\python\\python39\\lib\\site-packages\\pandas\\core\\roperator.py\u001b[0m in \u001b[0;36mradd\u001b[1;34m(left, right)\u001b[0m\n\u001b[0;32m      7\u001b[0m \u001b[1;33m\u001b[0m\u001b[0m\n\u001b[0;32m      8\u001b[0m \u001b[1;32mdef\u001b[0m \u001b[0mradd\u001b[0m\u001b[1;33m(\u001b[0m\u001b[0mleft\u001b[0m\u001b[1;33m,\u001b[0m \u001b[0mright\u001b[0m\u001b[1;33m)\u001b[0m\u001b[1;33m:\u001b[0m\u001b[1;33m\u001b[0m\u001b[1;33m\u001b[0m\u001b[0m\n\u001b[1;32m----> 9\u001b[1;33m     \u001b[1;32mreturn\u001b[0m \u001b[0mright\u001b[0m \u001b[1;33m+\u001b[0m \u001b[0mleft\u001b[0m\u001b[1;33m\u001b[0m\u001b[1;33m\u001b[0m\u001b[0m\n\u001b[0m\u001b[0;32m     10\u001b[0m \u001b[1;33m\u001b[0m\u001b[0m\n\u001b[0;32m     11\u001b[0m \u001b[1;33m\u001b[0m\u001b[0m\n",
      "\u001b[1;31mUFuncTypeError\u001b[0m: ufunc 'add' did not contain a loop with signature matching types (dtype('<U6'), dtype('float64')) -> None"
     ]
    }
   ],
   "source": [
    "#Correlation matrix between full time goals and other features\n",
    "corr= data.corr()\n",
    "corr_y = abs(corr[\"FTHG\"])\n",
    "highest_corr = corr_y[corr_y >0.4]\n",
    "highest_corr.sort_values(ascending=True)\n",
    "print(\"FTHG: \\n\" + str(highest_corr))\n",
    "\n",
    "corr= data.corr()\n",
    "corr_y = abs(corr[\"FTAG\"])\n",
    "highest_corr = corr_y[corr_y >0.4]\n",
    "highest_corr.sort_values(ascending=True)\n",
    "print(\"FTAG: \\n\" + str(highest_corr))"
   ]
  },
  {
   "cell_type": "code",
   "execution_count": 40,
   "metadata": {},
   "outputs": [
    {
     "name": "stdout",
     "output_type": "stream",
     "text": [
      "          FTHG      FTAG      HTHG      HTAG        HS        AS       HST  \\\n",
      "FTHG  1.000000 -0.094228  0.686279 -0.061929  0.291868 -0.153744  0.447116   \n",
      "FTAG -0.094228  1.000000 -0.074620  0.689755 -0.138028  0.329803 -0.125364   \n",
      "HTHG  0.686279 -0.074620  1.000000 -0.063888  0.121518 -0.046294  0.265147   \n",
      "HTAG -0.061929  0.689755 -0.063888  1.000000 -0.055533  0.173327 -0.078340   \n",
      "HS    0.291868 -0.138028  0.121518 -0.055533  1.000000 -0.396312  0.664911   \n",
      "AS   -0.153744  0.329803 -0.046294  0.173327 -0.396312  1.000000 -0.274752   \n",
      "HST   0.447116 -0.125364  0.265147 -0.078340  0.664911 -0.274752  1.000000   \n",
      "AST  -0.106742  0.455887 -0.057919  0.292674 -0.251961  0.666516 -0.011380   \n",
      "HF   -0.062727  0.016629 -0.020044  0.015676 -0.118987  0.048887 -0.067514   \n",
      "AF   -0.037510 -0.027468 -0.020127  0.000964 -0.018844 -0.070072 -0.004051   \n",
      "HC    0.050826 -0.089793 -0.043604 -0.031036  0.520636 -0.321987  0.362992   \n",
      "AC   -0.077387  0.057264  0.007369 -0.020740 -0.314563  0.506012 -0.180073   \n",
      "HY   -0.116632  0.111996 -0.093134  0.105635 -0.105485  0.106752 -0.130357   \n",
      "AY   -0.009011 -0.019813 -0.011040 -0.002051  0.042459 -0.071650  0.027408   \n",
      "HR   -0.083148  0.117998 -0.037096  0.073606 -0.108963  0.128815 -0.078006   \n",
      "AR    0.075610 -0.076476  0.019850 -0.026377  0.097028 -0.099742  0.070222   \n",
      "\n",
      "           AST        HF        AF        HC        AC        HY        AY  \\\n",
      "FTHG -0.106742 -0.062727 -0.037510  0.050826 -0.077387 -0.116632 -0.009011   \n",
      "FTAG  0.455887  0.016629 -0.027468 -0.089793  0.057264  0.111996 -0.019813   \n",
      "HTHG -0.057919 -0.020044 -0.020127 -0.043604  0.007369 -0.093134 -0.011040   \n",
      "HTAG  0.292674  0.015676  0.000964 -0.031036 -0.020740  0.105635 -0.002051   \n",
      "HS   -0.251961 -0.118987 -0.018844  0.520636 -0.314563 -0.105485  0.042459   \n",
      "AS    0.666516  0.048887 -0.070072 -0.321987  0.506012  0.106752 -0.071650   \n",
      "HST  -0.011380 -0.067514 -0.004051  0.362992 -0.180073 -0.130357  0.027408   \n",
      "AST   1.000000  0.057917 -0.039242 -0.174510  0.336150  0.060128 -0.037412   \n",
      "HF    0.057917  1.000000  0.114104 -0.100317  0.022178  0.372913  0.072937   \n",
      "AF   -0.039242  0.114104  1.000000 -0.014020 -0.048587  0.058390  0.380086   \n",
      "HC   -0.174510 -0.100317 -0.014020  1.000000 -0.255657 -0.064049  0.039268   \n",
      "AC    0.336150  0.022178 -0.048587 -0.255657  1.000000  0.051864 -0.042269   \n",
      "HY    0.060128  0.372913  0.058390 -0.064049  0.051864  1.000000  0.159078   \n",
      "AY   -0.037412  0.072937  0.380086  0.039268 -0.042269  0.159078  1.000000   \n",
      "HR    0.113911  0.065017  0.022254 -0.062685  0.084310  0.038581  0.052143   \n",
      "AR   -0.069132  0.034246  0.070760  0.042724 -0.055195  0.054853  0.074941   \n",
      "\n",
      "            HR        AR  \n",
      "FTHG -0.083148  0.075610  \n",
      "FTAG  0.117998 -0.076476  \n",
      "HTHG -0.037096  0.019850  \n",
      "HTAG  0.073606 -0.026377  \n",
      "HS   -0.108963  0.097028  \n",
      "AS    0.128815 -0.099742  \n",
      "HST  -0.078006  0.070222  \n",
      "AST   0.113911 -0.069132  \n",
      "HF    0.065017  0.034246  \n",
      "AF    0.022254  0.070760  \n",
      "HC   -0.062685  0.042724  \n",
      "AC    0.084310 -0.055195  \n",
      "HY    0.038581  0.054853  \n",
      "AY    0.052143  0.074941  \n",
      "HR    1.000000  0.040428  \n",
      "AR    0.040428  1.000000  \n"
     ]
    }
   ],
   "source": [
    "#Split dataset into input and output data\n",
    "\n",
    "#Output variable\n",
    "y = data.iloc[:, 5:6]\n",
    "#Reformat y to make it suitable for LabelEncoder\n",
    "y = np.array(y).reshape(len(y))\n",
    "#Encode y\n",
    "y = LabelEncoder().fit_transform(y)\n",
    "\n",
    "#Input variables\n",
    "#Remove give away columns such as goals scored\n",
    "data_filtered = data.drop(labels = data.columns[[3, 4, 5, 6, 7, 8]], axis = 1)"
   ]
  },
  {
   "cell_type": "code",
   "execution_count": 5,
   "metadata": {},
   "outputs": [],
   "source": [
    "#Data preprocessing\n",
    "\n",
    "#Dates\n",
    "data_filtered['Date'] = pd.to_datetime(data_filtered['Date'])\n",
    "#year has been removed as we need to predict future results -> https://towardsdatascience.com/machine-learning-with-datetime-feature-engineering-predicting-healthcare-appointment-no-shows-5e4ca3a85f96\n",
    "data_filtered['Month'] = data_filtered['Date'].dt.month\n",
    "data_filtered['Week'] = data_filtered['Date'].dt.isocalendar().week\n",
    "data_filtered['Day'] = data_filtered['Date'].dt.day\n",
    "#Extract encoded dates\n",
    "dates_split = data_filtered.iloc[:, 16:19]\n",
    "#Remove encoded dates and original date column\n",
    "data_filtered = data_filtered.drop(labels = data_filtered.columns[[0, 16, 17, 18]], axis = 1)\n",
    "\n",
    "#Encode categorical data\n",
    "encoder = OneHotEncoder(handle_unknown='ignore')\n",
    "\n",
    "#Teams\n",
    "home_t = data_filtered.iloc[:, 0:1]\n",
    "home_t = encoder.fit_transform(home_t)\n",
    "\n",
    "away_t = data_filtered.iloc[:, 1:2]\n",
    "away_t = encoder.fit_transform(away_t)\n",
    "data_filtered = data_filtered.drop(labels = data_filtered.columns[[0,1]], axis = 1)\n",
    "\n",
    "#Referees \n",
    "ref = data_filtered.iloc[:, 0:1]\n",
    "ref = encoder.fit_transform(ref)\n",
    "data_filtered = data_filtered.drop(labels = data_filtered.columns[[0]], axis = 1)\n",
    "\n",
    "#Re-stack columns\n",
    "data_filtered = data_filtered.join(pd.DataFrame(ref.toarray()), rsuffix = '_ref')\n",
    "data_filtered = data_filtered.join(pd.DataFrame(home_t.toarray()), rsuffix = '_home')\n",
    "data_filtered = data_filtered.join(pd.DataFrame(away_t.toarray()), rsuffix = '_away')\n",
    "data_filtered = dates_split.join(data_filtered)\n",
    "data_filtered.columns = data_filtered.columns.astype(str)"
   ]
  },
  {
   "cell_type": "code",
   "execution_count": 6,
   "metadata": {},
   "outputs": [
    {
     "name": "stdout",
     "output_type": "stream",
     "text": [
      "Accuracy on entire featureset is: 57.827260458839405%\n"
     ]
    }
   ],
   "source": [
    "#Train model on entire featureset\n",
    "rf=RandomForestClassifier(random_state = 42)\n",
    "X_train, X_test, y_train, y_test = train_test_split(data_filtered, y, test_size=0.3, random_state=42)\n",
    "rf.fit(X_train, y_train)\n",
    "preds = rf.predict(X_test)\n",
    "base_accuracy = preds == y_test\n",
    "base_accuracy = (np.sum(base_accuracy) / len(y_test)) * 100\n",
    "print(\"Accuracy on entire featureset is: \" + str(base_accuracy) + \"%\")"
   ]
  },
  {
   "cell_type": "code",
   "execution_count": 7,
   "metadata": {},
   "outputs": [
    {
     "name": "stdout",
     "output_type": "stream",
     "text": [
      "Accuracy without Referee: 57.962213225371116%\n",
      "Difference from before: 0.13495276653171118%\n"
     ]
    }
   ],
   "source": [
    "#Train model without Referee feature\n",
    "data_filtered = data_filtered.iloc[:, 0:15].join(data_filtered.iloc[:, 58:])\n",
    "rf=RandomForestClassifier(random_state = 42)\n",
    "X_train, X_test, y_train, y_test = train_test_split(data_filtered, y, test_size=0.3, random_state=42)\n",
    "rf.fit(X_train, y_train)\n",
    "preds = rf.predict(X_test)\n",
    "accuracy = preds == y_test\n",
    "accuracy = (np.sum(accuracy) / len(y_test)) * 100\n",
    "print(\"Accuracy without Referee: \" + str(accuracy) + \"%\")\n",
    "print(\"Difference from before: \" + str(accuracy - base_accuracy) + \"%\")"
   ]
  },
  {
   "cell_type": "code",
   "execution_count": 8,
   "metadata": {},
   "outputs": [
    {
     "name": "stdout",
     "output_type": "stream",
     "text": [
      "Accuracy without Dates: 56.81511470985156%\n",
      "Difference from before: -1.012145748987848%\n"
     ]
    }
   ],
   "source": [
    "#Train model without Date feature\n",
    "data_filtered = data_filtered.iloc[:, 3:]\n",
    "rf=RandomForestClassifier(random_state = 42)\n",
    "X_train, X_test, y_train, y_test = train_test_split(data_filtered, y, test_size=0.3, random_state=42)\n",
    "rf.fit(X_train, y_train)\n",
    "preds = rf.predict(X_test)\n",
    "accuracy = preds == y_test\n",
    "accuracy = (np.sum(accuracy) / len(y_test)) * 100\n",
    "print(\"Accuracy without Dates: \" + str(accuracy) + \"%\")\n",
    "print(\"Difference from before: \" + str(accuracy - base_accuracy) + \"%\")"
   ]
  },
  {
   "cell_type": "code",
   "execution_count": 9,
   "metadata": {},
   "outputs": [
    {
     "name": "stdout",
     "output_type": "stream",
     "text": [
      "Accuracy on all game stats: 55.06072874493927%\n"
     ]
    }
   ],
   "source": [
    "#Train model on only in game stats to identify most important ones\n",
    "data_filtered = data_filtered.iloc[:, 0:12]\n",
    "rf=RandomForestClassifier(random_state = 42)\n",
    "X_train, X_test, y_train, y_test = train_test_split(data_filtered, y, test_size=0.3, random_state=42)\n",
    "rf.fit(X_train, y_train)\n",
    "preds = rf.predict(X_test)\n",
    "all_stats_accuracy = preds == y_test\n",
    "all_stats_accuracy = (np.sum(all_stats_accuracy) / len(y_test)) * 100\n",
    "print(\"Accuracy on all game stats: \" + str(all_stats_accuracy) + \"%\")"
   ]
  },
  {
   "cell_type": "code",
   "execution_count": 10,
   "metadata": {},
   "outputs": [
    {
     "name": "stdout",
     "output_type": "stream",
     "text": [
      "Feature Importances: \n",
      "Feature: HST                                 Importance: 0.13373568693956137\n",
      "Feature: AST                                 Importance: 0.11086929727346594\n",
      "Feature: HS                                  Importance: 0.10711965963253876\n",
      "Feature: AS                                  Importance: 0.10459574408160308\n",
      "Feature: AF                                  Importance: 0.10278875719257885\n",
      "Feature: HF                                  Importance: 0.10274903136845186\n",
      "Feature: HC                                  Importance: 0.09664473425445547\n",
      "Feature: AC                                  Importance: 0.09167319027635455\n",
      "Feature: AY                                  Importance: 0.06454575651360132\n",
      "Feature: HY                                  Importance: 0.0615627757744895\n",
      "Feature: AR                                  Importance: 0.012278852078380604\n",
      "Feature: HR                                  Importance: 0.011436514614518712\n",
      "\n",
      "Confusion Matrix: \n",
      "[[244  46 127]\n",
      " [134  50 186]\n",
      " [118  55 522]]\n",
      "\n",
      "Classification Report: \n",
      "              precision    recall  f1-score   support\n",
      "\n",
      "           0       0.49      0.59      0.53       417\n",
      "           1       0.33      0.14      0.19       370\n",
      "           2       0.63      0.75      0.68       695\n",
      "\n",
      "    accuracy                           0.55      1482\n",
      "   macro avg       0.48      0.49      0.47      1482\n",
      "weighted avg       0.51      0.55      0.52      1482\n",
      "\n"
     ]
    }
   ],
   "source": [
    "#Visualise and analyse initial results\n",
    "\n",
    "#Display feature importances in descending order\n",
    "feature_importances = list(zip(X_train, rf.feature_importances_))\n",
    "feature_importances_ranked = sorted(feature_importances, key = lambda x: x[1], reverse = True)\n",
    "print(\"Feature Importances: \")\n",
    "[print('Feature: {:35} Importance: {}'.format(*pair)) for pair in feature_importances_ranked];\n",
    "\n",
    "print(\"\\nConfusion Matrix: \")\n",
    "print(confusion_matrix(y_test,preds))\n",
    "print(\"\\nClassification Report: \")\n",
    "print(classification_report(y_test,preds))"
   ]
  },
  {
   "cell_type": "code",
   "execution_count": 50,
   "metadata": {},
   "outputs": [
    {
     "name": "stdout",
     "output_type": "stream",
     "text": [
      "Index(['HS', 'AS', 'HST', 'AST', 'HF', 'AF', 'HC', 'AC'], dtype='object')\n",
      "FTHG    1.000000\n",
      "HTHG    0.686279\n",
      "HST     0.447116\n",
      "Name: FTHG, dtype: float64\n",
      "FTAG    1.000000\n",
      "HTAG    0.689755\n",
      "AST     0.455887\n",
      "Name: FTAG, dtype: float64\n"
     ]
    }
   ],
   "source": [
    "#Feature Selection\n",
    "#change names and display selected features more nicely, ideally with their importance, gini impurity...\n",
    "sel = SelectFromModel(RandomForestClassifier(random_state = 42))\n",
    "temp = sel.fit_transform(X_train, y_train)\n",
    "selected_feat= X_train.columns[(sel.get_support())]\n",
    "print(selected_feat)"
   ]
  },
  {
   "cell_type": "code",
   "execution_count": null,
   "metadata": {},
   "outputs": [],
   "source": [
    "#Train model on selected game stats only\n",
    "indexes = []\n",
    "for feat in selected_feat:\n",
    "    indexes.append(data_filtered.columns.get_loc(feat))\n",
    "    \n",
    "data_filtered = data_filtered.iloc[:, indexes]\n",
    "\n",
    "rf=RandomForestClassifier(random_state = 42)\n",
    "X_train, X_test, y_train, y_test = train_test_split(data_filtered, y, test_size=0.3, random_state=42)\n",
    "rf.fit(X_train, y_train)\n",
    "preds = rf.predict(X_test)\n",
    "reduced_stats_accuracy = preds == y_test\n",
    "reduced_stats_accuracy = (np.sum(reduced_stats_accuracy) / len(y_test)) * 100\n",
    "print(\"Accuracy on reduced in game stats: \" + str(reduced_stats_accuracy) + \"%\")\n",
    "print(\"Difference compared to all game stats: \" + str(all_stats_accuracy - reduced_stats_accuracy) + \"%\")\n",
    "\n",
    "print(\"\\nConfusion Matrix: \")\n",
    "print(confusion_matrix(y_test,preds))\n",
    "print(\"\\nClassification Report: \")\n",
    "print(classification_report(y_test,preds))"
   ]
  },
  {
   "cell_type": "code",
   "execution_count": null,
   "metadata": {},
   "outputs": [],
   "source": [
    "#Visualisation of new featureset/tree"
   ]
  },
  {
   "cell_type": "code",
   "execution_count": null,
   "metadata": {},
   "outputs": [],
   "source": [
    "#Produce new dataset\n",
    "#Fix column names\n",
    "#Restack teams and dates\n",
    "\n",
    "#Original teams are needed to be able to compute priors\n",
    "data_filtered = data.iloc[:, [1, 2]].join(data_filtered)\n",
    "data_filtered = dates_split.join(data_filtered)\n",
    "\n",
    "#Stack previously removed giveaway columns\n",
    "data_filtered = data_filtered.join(data.iloc[:, [3, 4, 6, 7, 8]])\n",
    "\n",
    "#Feature engineer second half goals\n",
    "#Second half home goals\n",
    "SHHG = np.array(data.iloc[:, [3]]) - np.array(data.iloc[:, [6]])\n",
    "#Second half away goals\n",
    "SHAG = np.array(data.iloc[:, [4]]) - np.array(data.iloc[:, [7]])\n",
    "data_filtered = data_filtered.join(pd.DataFrame(SHHG), rsuffix = 'SHHG')\n",
    "data_filtered = data_filtered.join(pd.DataFrame(SHAG), rsuffix = 'SHAG')\n",
    "data_filtered.columns = data_filtered.columns.astype(str)\n",
    "#One hot encode dates? -> make the one hot columns but dont stack now, will be better to do after priors all together with teams"
   ]
  },
  {
   "cell_type": "markdown",
   "metadata": {
    "id": "90xVEDPEp5Js"
   },
   "source": [
    "## Methodology Overview\n",
    "<a name='section4'></a>"
   ]
  },
  {
   "cell_type": "markdown",
   "metadata": {
    "id": "oOxVov2mqGZ-"
   },
   "source": [
    "## Model Training & Validation\n",
    "<a name='section5'></a>"
   ]
  },
  {
   "cell_type": "markdown",
   "metadata": {
    "id": "E_aPyBUwqMAD"
   },
   "source": [
    "## Results\n",
    "<a name='section6'></a>"
   ]
  },
  {
   "cell_type": "markdown",
   "metadata": {
    "id": "M2XDY1oOAyEZ"
   },
   "source": [
    "## Final Predictions on Test Set\n",
    "<a name='section7'></a>"
   ]
  }
 ],
 "metadata": {
  "colab": {
   "collapsed_sections": [],
   "name": "CW1.ipynb",
   "provenance": [],
   "toc_visible": true
  },
  "kernelspec": {
   "display_name": "Python 3 (ipykernel)",
   "language": "python",
   "name": "python3"
  },
  "language_info": {
   "codemirror_mode": {
    "name": "ipython",
    "version": 3
   },
   "file_extension": ".py",
   "mimetype": "text/x-python",
   "name": "python",
   "nbconvert_exporter": "python",
   "pygments_lexer": "ipython3",
   "version": "3.9.5"
  }
 },
 "nbformat": 4,
 "nbformat_minor": 1
}
